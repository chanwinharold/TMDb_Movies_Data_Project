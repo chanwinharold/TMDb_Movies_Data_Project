{
 "cells": [
  {
   "metadata": {},
   "cell_type": "markdown",
   "source": "# Nettoyage et Manipulation des données",
   "id": "1a6d7beea880b5bd"
  },
  {
   "metadata": {
    "ExecuteTime": {
     "end_time": "2025-03-24T15:22:30.903752Z",
     "start_time": "2025-03-24T15:22:30.759886Z"
    }
   },
   "cell_type": "code",
   "source": [
    "import numpy as np\n",
    "import pandas as pd\n",
    "\n",
    "data = pd.read_csv(\"../data/tmdb_movies_data.csv\")"
   ],
   "id": "42f717e623b1c8a2",
   "outputs": [],
   "execution_count": 58
  },
  {
   "metadata": {},
   "cell_type": "markdown",
   "source": "On commence par la suppression du doublon détecté",
   "id": "de1db30def8d1feb"
  },
  {
   "cell_type": "code",
   "id": "initial_id",
   "metadata": {
    "collapsed": true,
    "ExecuteTime": {
     "end_time": "2025-03-24T15:22:30.952484Z",
     "start_time": "2025-03-24T15:22:30.910971Z"
    }
   },
   "source": "data.drop_duplicates(inplace=True)",
   "outputs": [],
   "execution_count": 59
  },
  {
   "metadata": {},
   "cell_type": "markdown",
   "source": "On supprime à présent les colonnes inutiles",
   "id": "a6b481dd661aac45"
  },
  {
   "metadata": {
    "ExecuteTime": {
     "end_time": "2025-03-24T15:22:30.969461Z",
     "start_time": "2025-03-24T15:22:30.959881Z"
    }
   },
   "cell_type": "code",
   "source": [
    "list_columns_to_delete = ['id', 'imdb_id', 'budget', 'revenue', 'cast', 'homepage', 'director', 'tagline', 'keywords', 'overview', 'production_companies']\n",
    "\n",
    "data.drop(columns=list_columns_to_delete, inplace=True)"
   ],
   "id": "dd1158b95b49ab3f",
   "outputs": [],
   "execution_count": 60
  },
  {
   "metadata": {
    "ExecuteTime": {
     "end_time": "2025-03-24T15:22:31.044929Z",
     "start_time": "2025-03-24T15:22:31.019011Z"
    }
   },
   "cell_type": "code",
   "source": "data.head()",
   "id": "d071bfc1f2b0039d",
   "outputs": [
    {
     "data": {
      "text/plain": [
       "   popularity                original_title  runtime  \\\n",
       "0   32.985763                Jurassic World      124   \n",
       "1   28.419936            Mad Max: Fury Road      120   \n",
       "2   13.112507                     Insurgent      119   \n",
       "3   11.173104  Star Wars: The Force Awakens      136   \n",
       "4    9.335014                     Furious 7      137   \n",
       "\n",
       "                                      genres release_date  vote_count  \\\n",
       "0  Action|Adventure|Science Fiction|Thriller     6/9/2015        5562   \n",
       "1  Action|Adventure|Science Fiction|Thriller    5/13/2015        6185   \n",
       "2         Adventure|Science Fiction|Thriller    3/18/2015        2480   \n",
       "3   Action|Adventure|Science Fiction|Fantasy   12/15/2015        5292   \n",
       "4                      Action|Crime|Thriller     4/1/2015        2947   \n",
       "\n",
       "   vote_average  release_year   budget_adj   revenue_adj  \n",
       "0           6.5          2015  137999939.3  1.392446e+09  \n",
       "1           7.1          2015  137999939.3  3.481613e+08  \n",
       "2           6.3          2015  101199955.5  2.716190e+08  \n",
       "3           7.5          2015  183999919.0  1.902723e+09  \n",
       "4           7.3          2015  174799923.1  1.385749e+09  "
      ],
      "text/html": [
       "<div>\n",
       "<style scoped>\n",
       "    .dataframe tbody tr th:only-of-type {\n",
       "        vertical-align: middle;\n",
       "    }\n",
       "\n",
       "    .dataframe tbody tr th {\n",
       "        vertical-align: top;\n",
       "    }\n",
       "\n",
       "    .dataframe thead th {\n",
       "        text-align: right;\n",
       "    }\n",
       "</style>\n",
       "<table border=\"1\" class=\"dataframe\">\n",
       "  <thead>\n",
       "    <tr style=\"text-align: right;\">\n",
       "      <th></th>\n",
       "      <th>popularity</th>\n",
       "      <th>original_title</th>\n",
       "      <th>runtime</th>\n",
       "      <th>genres</th>\n",
       "      <th>release_date</th>\n",
       "      <th>vote_count</th>\n",
       "      <th>vote_average</th>\n",
       "      <th>release_year</th>\n",
       "      <th>budget_adj</th>\n",
       "      <th>revenue_adj</th>\n",
       "    </tr>\n",
       "  </thead>\n",
       "  <tbody>\n",
       "    <tr>\n",
       "      <th>0</th>\n",
       "      <td>32.985763</td>\n",
       "      <td>Jurassic World</td>\n",
       "      <td>124</td>\n",
       "      <td>Action|Adventure|Science Fiction|Thriller</td>\n",
       "      <td>6/9/2015</td>\n",
       "      <td>5562</td>\n",
       "      <td>6.5</td>\n",
       "      <td>2015</td>\n",
       "      <td>137999939.3</td>\n",
       "      <td>1.392446e+09</td>\n",
       "    </tr>\n",
       "    <tr>\n",
       "      <th>1</th>\n",
       "      <td>28.419936</td>\n",
       "      <td>Mad Max: Fury Road</td>\n",
       "      <td>120</td>\n",
       "      <td>Action|Adventure|Science Fiction|Thriller</td>\n",
       "      <td>5/13/2015</td>\n",
       "      <td>6185</td>\n",
       "      <td>7.1</td>\n",
       "      <td>2015</td>\n",
       "      <td>137999939.3</td>\n",
       "      <td>3.481613e+08</td>\n",
       "    </tr>\n",
       "    <tr>\n",
       "      <th>2</th>\n",
       "      <td>13.112507</td>\n",
       "      <td>Insurgent</td>\n",
       "      <td>119</td>\n",
       "      <td>Adventure|Science Fiction|Thriller</td>\n",
       "      <td>3/18/2015</td>\n",
       "      <td>2480</td>\n",
       "      <td>6.3</td>\n",
       "      <td>2015</td>\n",
       "      <td>101199955.5</td>\n",
       "      <td>2.716190e+08</td>\n",
       "    </tr>\n",
       "    <tr>\n",
       "      <th>3</th>\n",
       "      <td>11.173104</td>\n",
       "      <td>Star Wars: The Force Awakens</td>\n",
       "      <td>136</td>\n",
       "      <td>Action|Adventure|Science Fiction|Fantasy</td>\n",
       "      <td>12/15/2015</td>\n",
       "      <td>5292</td>\n",
       "      <td>7.5</td>\n",
       "      <td>2015</td>\n",
       "      <td>183999919.0</td>\n",
       "      <td>1.902723e+09</td>\n",
       "    </tr>\n",
       "    <tr>\n",
       "      <th>4</th>\n",
       "      <td>9.335014</td>\n",
       "      <td>Furious 7</td>\n",
       "      <td>137</td>\n",
       "      <td>Action|Crime|Thriller</td>\n",
       "      <td>4/1/2015</td>\n",
       "      <td>2947</td>\n",
       "      <td>7.3</td>\n",
       "      <td>2015</td>\n",
       "      <td>174799923.1</td>\n",
       "      <td>1.385749e+09</td>\n",
       "    </tr>\n",
       "  </tbody>\n",
       "</table>\n",
       "</div>"
      ]
     },
     "execution_count": 61,
     "metadata": {},
     "output_type": "execute_result"
    }
   ],
   "execution_count": 61
  },
  {
   "metadata": {},
   "cell_type": "markdown",
   "source": "Revérifions s'il y a des valeurs manquantes",
   "id": "fd9103b7c633034d"
  },
  {
   "metadata": {
    "ExecuteTime": {
     "end_time": "2025-03-24T15:22:31.181784Z",
     "start_time": "2025-03-24T15:22:31.170967Z"
    }
   },
   "cell_type": "code",
   "source": "data.isnull().sum()",
   "id": "5c73b7e13652ed42",
   "outputs": [
    {
     "data": {
      "text/plain": [
       "popularity         0\n",
       "original_title     0\n",
       "runtime            0\n",
       "genres            23\n",
       "release_date       0\n",
       "vote_count         0\n",
       "vote_average       0\n",
       "release_year       0\n",
       "budget_adj         0\n",
       "revenue_adj        0\n",
       "dtype: int64"
      ]
     },
     "execution_count": 62,
     "metadata": {},
     "output_type": "execute_result"
    }
   ],
   "execution_count": 62
  },
  {
   "metadata": {},
   "cell_type": "markdown",
   "source": "La colonne ```genres``` contient 23 valeurs manquantes, ce qui n'est pas conséquent sur notre échantillon de 10866 individus. Donc, on peut les supprimer.",
   "id": "6eb3115bdc7e805"
  },
  {
   "metadata": {
    "ExecuteTime": {
     "end_time": "2025-03-24T15:22:31.321559Z",
     "start_time": "2025-03-24T15:22:31.302482Z"
    }
   },
   "cell_type": "code",
   "source": [
    "data.dropna(inplace=True)\n",
    "data.shape"
   ],
   "id": "23a8bb88672572cd",
   "outputs": [
    {
     "data": {
      "text/plain": [
       "(10842, 10)"
      ]
     },
     "execution_count": 63,
     "metadata": {},
     "output_type": "execute_result"
    }
   ],
   "execution_count": 63
  },
  {
   "metadata": {},
   "cell_type": "markdown",
   "source": "Suppression réussie !",
   "id": "4ccb86fb3f2d46dc"
  },
  {
   "metadata": {
    "ExecuteTime": {
     "end_time": "2025-03-24T15:22:31.440975Z",
     "start_time": "2025-03-24T15:22:31.425094Z"
    }
   },
   "cell_type": "code",
   "source": "data.isnull().sum()",
   "id": "230dba43ba5ebc4b",
   "outputs": [
    {
     "data": {
      "text/plain": [
       "popularity        0\n",
       "original_title    0\n",
       "runtime           0\n",
       "genres            0\n",
       "release_date      0\n",
       "vote_count        0\n",
       "vote_average      0\n",
       "release_year      0\n",
       "budget_adj        0\n",
       "revenue_adj       0\n",
       "dtype: int64"
      ]
     },
     "execution_count": 64,
     "metadata": {},
     "output_type": "execute_result"
    }
   ],
   "execution_count": 64
  },
  {
   "metadata": {},
   "cell_type": "markdown",
   "source": [
    "Tout est bon !!!\n",
    "\n",
    "Mais n'oublions pas que pour la colonne ```genres``` les valeurs sont multiples et séparées par des barres. Ce que nous pouvons faire c'est de garder pour chaque individu la première valeur du genre et supprimer les autres"
   ],
   "id": "c73e06f3a36b8708"
  },
  {
   "metadata": {
    "ExecuteTime": {
     "end_time": "2025-03-24T15:22:31.677784Z",
     "start_time": "2025-03-24T15:22:31.638669Z"
    }
   },
   "cell_type": "code",
   "source": [
    "data[\"genres\"] = data[\"genres\"].str.split(\"|\")\n",
    "list_genres = []\n",
    "for row in data[\"genres\"]:\n",
    "    list_genres.append(row[0])\n",
    "data[\"genres\"] = list_genres\n",
    "\n",
    "data.head()"
   ],
   "id": "89d419300d58bd06",
   "outputs": [
    {
     "data": {
      "text/plain": [
       "   popularity                original_title  runtime     genres release_date  \\\n",
       "0   32.985763                Jurassic World      124     Action     6/9/2015   \n",
       "1   28.419936            Mad Max: Fury Road      120     Action    5/13/2015   \n",
       "2   13.112507                     Insurgent      119  Adventure    3/18/2015   \n",
       "3   11.173104  Star Wars: The Force Awakens      136     Action   12/15/2015   \n",
       "4    9.335014                     Furious 7      137     Action     4/1/2015   \n",
       "\n",
       "   vote_count  vote_average  release_year   budget_adj   revenue_adj  \n",
       "0        5562           6.5          2015  137999939.3  1.392446e+09  \n",
       "1        6185           7.1          2015  137999939.3  3.481613e+08  \n",
       "2        2480           6.3          2015  101199955.5  2.716190e+08  \n",
       "3        5292           7.5          2015  183999919.0  1.902723e+09  \n",
       "4        2947           7.3          2015  174799923.1  1.385749e+09  "
      ],
      "text/html": [
       "<div>\n",
       "<style scoped>\n",
       "    .dataframe tbody tr th:only-of-type {\n",
       "        vertical-align: middle;\n",
       "    }\n",
       "\n",
       "    .dataframe tbody tr th {\n",
       "        vertical-align: top;\n",
       "    }\n",
       "\n",
       "    .dataframe thead th {\n",
       "        text-align: right;\n",
       "    }\n",
       "</style>\n",
       "<table border=\"1\" class=\"dataframe\">\n",
       "  <thead>\n",
       "    <tr style=\"text-align: right;\">\n",
       "      <th></th>\n",
       "      <th>popularity</th>\n",
       "      <th>original_title</th>\n",
       "      <th>runtime</th>\n",
       "      <th>genres</th>\n",
       "      <th>release_date</th>\n",
       "      <th>vote_count</th>\n",
       "      <th>vote_average</th>\n",
       "      <th>release_year</th>\n",
       "      <th>budget_adj</th>\n",
       "      <th>revenue_adj</th>\n",
       "    </tr>\n",
       "  </thead>\n",
       "  <tbody>\n",
       "    <tr>\n",
       "      <th>0</th>\n",
       "      <td>32.985763</td>\n",
       "      <td>Jurassic World</td>\n",
       "      <td>124</td>\n",
       "      <td>Action</td>\n",
       "      <td>6/9/2015</td>\n",
       "      <td>5562</td>\n",
       "      <td>6.5</td>\n",
       "      <td>2015</td>\n",
       "      <td>137999939.3</td>\n",
       "      <td>1.392446e+09</td>\n",
       "    </tr>\n",
       "    <tr>\n",
       "      <th>1</th>\n",
       "      <td>28.419936</td>\n",
       "      <td>Mad Max: Fury Road</td>\n",
       "      <td>120</td>\n",
       "      <td>Action</td>\n",
       "      <td>5/13/2015</td>\n",
       "      <td>6185</td>\n",
       "      <td>7.1</td>\n",
       "      <td>2015</td>\n",
       "      <td>137999939.3</td>\n",
       "      <td>3.481613e+08</td>\n",
       "    </tr>\n",
       "    <tr>\n",
       "      <th>2</th>\n",
       "      <td>13.112507</td>\n",
       "      <td>Insurgent</td>\n",
       "      <td>119</td>\n",
       "      <td>Adventure</td>\n",
       "      <td>3/18/2015</td>\n",
       "      <td>2480</td>\n",
       "      <td>6.3</td>\n",
       "      <td>2015</td>\n",
       "      <td>101199955.5</td>\n",
       "      <td>2.716190e+08</td>\n",
       "    </tr>\n",
       "    <tr>\n",
       "      <th>3</th>\n",
       "      <td>11.173104</td>\n",
       "      <td>Star Wars: The Force Awakens</td>\n",
       "      <td>136</td>\n",
       "      <td>Action</td>\n",
       "      <td>12/15/2015</td>\n",
       "      <td>5292</td>\n",
       "      <td>7.5</td>\n",
       "      <td>2015</td>\n",
       "      <td>183999919.0</td>\n",
       "      <td>1.902723e+09</td>\n",
       "    </tr>\n",
       "    <tr>\n",
       "      <th>4</th>\n",
       "      <td>9.335014</td>\n",
       "      <td>Furious 7</td>\n",
       "      <td>137</td>\n",
       "      <td>Action</td>\n",
       "      <td>4/1/2015</td>\n",
       "      <td>2947</td>\n",
       "      <td>7.3</td>\n",
       "      <td>2015</td>\n",
       "      <td>174799923.1</td>\n",
       "      <td>1.385749e+09</td>\n",
       "    </tr>\n",
       "  </tbody>\n",
       "</table>\n",
       "</div>"
      ]
     },
     "execution_count": 65,
     "metadata": {},
     "output_type": "execute_result"
    }
   ],
   "execution_count": 65
  },
  {
   "metadata": {},
   "cell_type": "markdown",
   "source": "Reste à transformer notre colonne ```release_date``` en datetime",
   "id": "d3bf71655e07397a"
  },
  {
   "metadata": {
    "ExecuteTime": {
     "end_time": "2025-03-24T15:26:58.238335Z",
     "start_time": "2025-03-24T15:26:58.133954Z"
    }
   },
   "cell_type": "code",
   "source": "data[\"release_date\"] = pd.to_datetime(data[\"release_date\"], format=\"%m/%d/%Y\", errors=\"coerce\")",
   "id": "95fa4fcd09923f4e",
   "outputs": [],
   "execution_count": 66
  },
  {
   "metadata": {
    "ExecuteTime": {
     "end_time": "2025-03-24T15:27:05.815806Z",
     "start_time": "2025-03-24T15:27:05.786217Z"
    }
   },
   "cell_type": "code",
   "source": "data.head()",
   "id": "2a423fca705f22cb",
   "outputs": [
    {
     "data": {
      "text/plain": [
       "   popularity                original_title  runtime     genres release_date  \\\n",
       "0   32.985763                Jurassic World      124     Action   2015-06-09   \n",
       "1   28.419936            Mad Max: Fury Road      120     Action   2015-05-13   \n",
       "2   13.112507                     Insurgent      119  Adventure   2015-03-18   \n",
       "3   11.173104  Star Wars: The Force Awakens      136     Action   2015-12-15   \n",
       "4    9.335014                     Furious 7      137     Action   2015-04-01   \n",
       "\n",
       "   vote_count  vote_average  release_year   budget_adj   revenue_adj  \n",
       "0        5562           6.5          2015  137999939.3  1.392446e+09  \n",
       "1        6185           7.1          2015  137999939.3  3.481613e+08  \n",
       "2        2480           6.3          2015  101199955.5  2.716190e+08  \n",
       "3        5292           7.5          2015  183999919.0  1.902723e+09  \n",
       "4        2947           7.3          2015  174799923.1  1.385749e+09  "
      ],
      "text/html": [
       "<div>\n",
       "<style scoped>\n",
       "    .dataframe tbody tr th:only-of-type {\n",
       "        vertical-align: middle;\n",
       "    }\n",
       "\n",
       "    .dataframe tbody tr th {\n",
       "        vertical-align: top;\n",
       "    }\n",
       "\n",
       "    .dataframe thead th {\n",
       "        text-align: right;\n",
       "    }\n",
       "</style>\n",
       "<table border=\"1\" class=\"dataframe\">\n",
       "  <thead>\n",
       "    <tr style=\"text-align: right;\">\n",
       "      <th></th>\n",
       "      <th>popularity</th>\n",
       "      <th>original_title</th>\n",
       "      <th>runtime</th>\n",
       "      <th>genres</th>\n",
       "      <th>release_date</th>\n",
       "      <th>vote_count</th>\n",
       "      <th>vote_average</th>\n",
       "      <th>release_year</th>\n",
       "      <th>budget_adj</th>\n",
       "      <th>revenue_adj</th>\n",
       "    </tr>\n",
       "  </thead>\n",
       "  <tbody>\n",
       "    <tr>\n",
       "      <th>0</th>\n",
       "      <td>32.985763</td>\n",
       "      <td>Jurassic World</td>\n",
       "      <td>124</td>\n",
       "      <td>Action</td>\n",
       "      <td>2015-06-09</td>\n",
       "      <td>5562</td>\n",
       "      <td>6.5</td>\n",
       "      <td>2015</td>\n",
       "      <td>137999939.3</td>\n",
       "      <td>1.392446e+09</td>\n",
       "    </tr>\n",
       "    <tr>\n",
       "      <th>1</th>\n",
       "      <td>28.419936</td>\n",
       "      <td>Mad Max: Fury Road</td>\n",
       "      <td>120</td>\n",
       "      <td>Action</td>\n",
       "      <td>2015-05-13</td>\n",
       "      <td>6185</td>\n",
       "      <td>7.1</td>\n",
       "      <td>2015</td>\n",
       "      <td>137999939.3</td>\n",
       "      <td>3.481613e+08</td>\n",
       "    </tr>\n",
       "    <tr>\n",
       "      <th>2</th>\n",
       "      <td>13.112507</td>\n",
       "      <td>Insurgent</td>\n",
       "      <td>119</td>\n",
       "      <td>Adventure</td>\n",
       "      <td>2015-03-18</td>\n",
       "      <td>2480</td>\n",
       "      <td>6.3</td>\n",
       "      <td>2015</td>\n",
       "      <td>101199955.5</td>\n",
       "      <td>2.716190e+08</td>\n",
       "    </tr>\n",
       "    <tr>\n",
       "      <th>3</th>\n",
       "      <td>11.173104</td>\n",
       "      <td>Star Wars: The Force Awakens</td>\n",
       "      <td>136</td>\n",
       "      <td>Action</td>\n",
       "      <td>2015-12-15</td>\n",
       "      <td>5292</td>\n",
       "      <td>7.5</td>\n",
       "      <td>2015</td>\n",
       "      <td>183999919.0</td>\n",
       "      <td>1.902723e+09</td>\n",
       "    </tr>\n",
       "    <tr>\n",
       "      <th>4</th>\n",
       "      <td>9.335014</td>\n",
       "      <td>Furious 7</td>\n",
       "      <td>137</td>\n",
       "      <td>Action</td>\n",
       "      <td>2015-04-01</td>\n",
       "      <td>2947</td>\n",
       "      <td>7.3</td>\n",
       "      <td>2015</td>\n",
       "      <td>174799923.1</td>\n",
       "      <td>1.385749e+09</td>\n",
       "    </tr>\n",
       "  </tbody>\n",
       "</table>\n",
       "</div>"
      ]
     },
     "execution_count": 67,
     "metadata": {},
     "output_type": "execute_result"
    }
   ],
   "execution_count": 67
  },
  {
   "metadata": {},
   "cell_type": "markdown",
   "source": "Maintenant notre DataFrame est clean!",
   "id": "f1a8702b1dc83c95"
  },
  {
   "metadata": {},
   "cell_type": "markdown",
   "source": "### Sauvegarde des données",
   "id": "b5e9002695f15a89"
  },
  {
   "metadata": {
    "ExecuteTime": {
     "end_time": "2025-03-24T15:28:29.427272Z",
     "start_time": "2025-03-24T15:28:29.254976Z"
    }
   },
   "cell_type": "code",
   "source": "data.to_csv(\"../data/data_cleaned.csv\", index=False)",
   "id": "615b7754e7c43a6f",
   "outputs": [],
   "execution_count": 68
  }
 ],
 "metadata": {
  "kernelspec": {
   "display_name": "Python 3",
   "language": "python",
   "name": "python3"
  },
  "language_info": {
   "codemirror_mode": {
    "name": "ipython",
    "version": 2
   },
   "file_extension": ".py",
   "mimetype": "text/x-python",
   "name": "python",
   "nbconvert_exporter": "python",
   "pygments_lexer": "ipython2",
   "version": "2.7.6"
  }
 },
 "nbformat": 4,
 "nbformat_minor": 5
}
